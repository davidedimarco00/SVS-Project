{
 "cells": [
  {
   "cell_type": "markdown",
   "metadata": {},
   "source": [
    "# Carla Intro\n",
    "\n",
    "Carla Python API is a Python library that allows you to control a Carla simulation environment.\n",
    "\n",
    "You can find the official documentation [here](https://carla.readthedocs.io/en/latest/python_api/)."
   ]
  },
  {
   "cell_type": "code",
   "execution_count": 45,
   "metadata": {},
   "outputs": [],
   "source": [
    "import carla\n",
    "import time"
   ]
  },
  {
   "cell_type": "markdown",
   "metadata": {},
   "source": [
    "## Carla client connetion\n",
    "\n",
    "A connetion to the server will be created. From now, we can use the client to interact with the server.\n",
    "\n",
    "> **Remember**: *Client* object is a proxy to the server. It is used to send commands to the server and receive responses."
   ]
  },
  {
   "cell_type": "code",
   "execution_count": 46,
   "metadata": {},
   "outputs": [],
   "source": [
    "client = carla.Client(\"localhost\", 2000)"
   ]
  },
  {
   "cell_type": "markdown",
   "metadata": {},
   "source": [
    "As a remote proxy, connection to the server is not immediate. It may take a few seconds to establish the connection."
   ]
  },
  {
   "cell_type": "code",
   "execution_count": 47,
   "metadata": {},
   "outputs": [
    {
     "data": {
      "text/plain": [
       "<carla.libcarla.World at 0x1de6a3ad0a0>"
      ]
     },
     "execution_count": 47,
     "metadata": {},
     "output_type": "execute_result"
    }
   ],
   "source": [
    "client.set_timeout(15)\n",
    "client.load_world(\"Town01\") # a time consuming operation"
   ]
  },
  {
   "cell_type": "code",
   "execution_count": 48,
   "metadata": {},
   "outputs": [
    {
     "data": {
      "text/plain": [
       "<carla.libcarla.World at 0x1de6a11d7a0>"
      ]
     },
     "execution_count": 48,
     "metadata": {},
     "output_type": "execute_result"
    }
   ],
   "source": [
    "client.set_timeout(15)\n",
    "client.load_world(\"Town02\")"
   ]
  },
  {
   "cell_type": "code",
   "execution_count": 49,
   "metadata": {},
   "outputs": [
    {
     "name": "stdout",
     "output_type": "stream",
     "text": [
      "Client version: 0.9.14\n",
      "Server version: 0.9.14\n"
     ]
    }
   ],
   "source": [
    "print(f\"Client version: {client.get_client_version()}\")\n",
    "print(f\"Server version: {client.get_server_version()}\")"
   ]
  },
  {
   "cell_type": "markdown",
   "metadata": {},
   "source": [
    "## Configure the simulation\n",
    "\n",
    "Client is also used to configure the simulation. We can set the weather, the time of the day, the map, etc.\n",
    "\n",
    "### Change maps\n",
    "\n",
    "More maps can be downloaded from [GitHub Releases](https://github.com/carla-simulator/carla/releases)."
   ]
  },
  {
   "cell_type": "code",
   "execution_count": 50,
   "metadata": {},
   "outputs": [
    {
     "data": {
      "text/plain": [
       "['/Game/Carla/Maps/Town01',\n",
       " '/Game/Carla/Maps/Town01_Opt',\n",
       " '/Game/Carla/Maps/Town02',\n",
       " '/Game/Carla/Maps/Town02_Opt',\n",
       " '/Game/Carla/Maps/Town03',\n",
       " '/Game/Carla/Maps/Town03_Opt',\n",
       " '/Game/Carla/Maps/Town04',\n",
       " '/Game/Carla/Maps/Town04_Opt',\n",
       " '/Game/Carla/Maps/Town05',\n",
       " '/Game/Carla/Maps/Town05_Opt',\n",
       " '/Game/Carla/Maps/Town10HD',\n",
       " '/Game/Carla/Maps/Town10HD_Opt']"
      ]
     },
     "execution_count": 50,
     "metadata": {},
     "output_type": "execute_result"
    }
   ],
   "source": [
    "client.get_available_maps()"
   ]
  },
  {
   "cell_type": "markdown",
   "metadata": {},
   "source": [
    "`Town10HD_Opt` is a streamlined version of `Town10HD` designed to balance performance with environmental detail."
   ]
  },
  {
   "cell_type": "code",
   "execution_count": 51,
   "metadata": {},
   "outputs": [
    {
     "data": {
      "text/plain": [
       "<carla.libcarla.World at 0x1de6a3c4880>"
      ]
     },
     "execution_count": 51,
     "metadata": {},
     "output_type": "execute_result"
    }
   ],
   "source": [
    "client.load_world(\"Town10HD_Opt\")"
   ]
  },
  {
   "cell_type": "markdown",
   "metadata": {},
   "source": [
    "### Set the weather"
   ]
  },
  {
   "cell_type": "code",
   "execution_count": 52,
   "metadata": {},
   "outputs": [],
   "source": [
    "world = client.get_world()\n",
    "world.set_weather(carla.WeatherParameters.WetNight)"
   ]
  },
  {
   "cell_type": "code",
   "execution_count": null,
   "metadata": {},
   "outputs": [],
   "source": []
  },
  {
   "cell_type": "code",
   "execution_count": 53,
   "metadata": {},
   "outputs": [
    {
     "name": "stdout",
     "output_type": "stream",
     "text": [
      "Weather set to WeatherParameters(cloudiness=60.000000, cloudiness=60.000000, precipitation=0.000000, precipitation_deposits=0.000000, wind_intensity=10.000000, sun_azimuth_angle=-1.000000, sun_altitude_angle=45.000000, fog_density=3.000000, fog_distance=0.750000, fog_falloff=0.100000, wetness=0.000000, scattering_intensity=1.000000, mie_scattering_scale=0.030000, rayleigh_scattering_scale=0.033100, dust_storm=0.000000)\n",
      "Weather set to WeatherParameters(cloudiness=60.000000, cloudiness=60.000000, precipitation=60.000000, precipitation_deposits=60.000000, wind_intensity=60.000000, sun_azimuth_angle=-1.000000, sun_altitude_angle=15.000000, fog_density=3.000000, fog_distance=0.750000, fog_falloff=0.100000, wetness=0.000000, scattering_intensity=1.000000, mie_scattering_scale=0.030000, rayleigh_scattering_scale=0.033100, dust_storm=0.000000)\n",
      "Weather set to WeatherParameters(cloudiness=100.000000, cloudiness=100.000000, precipitation=100.000000, precipitation_deposits=90.000000, wind_intensity=100.000000, sun_azimuth_angle=-1.000000, sun_altitude_angle=45.000000, fog_density=7.000000, fog_distance=0.750000, fog_falloff=0.100000, wetness=0.000000, scattering_intensity=1.000000, mie_scattering_scale=0.030000, rayleigh_scattering_scale=0.033100, dust_storm=0.000000)\n",
      "Weather set to WeatherParameters(cloudiness=5.000000, cloudiness=5.000000, precipitation=0.000000, precipitation_deposits=0.000000, wind_intensity=10.000000, sun_azimuth_angle=-1.000000, sun_altitude_angle=15.000000, fog_density=2.000000, fog_distance=0.750000, fog_falloff=0.100000, wetness=0.000000, scattering_intensity=1.000000, mie_scattering_scale=0.030000, rayleigh_scattering_scale=0.033100, dust_storm=0.000000)\n",
      "Weather set to WeatherParameters(cloudiness=60.000000, cloudiness=60.000000, precipitation=30.000000, precipitation_deposits=50.000000, wind_intensity=30.000000, sun_azimuth_angle=-1.000000, sun_altitude_angle=-90.000000, fog_density=60.000000, fog_distance=0.750000, fog_falloff=0.100000, wetness=60.000000, scattering_intensity=1.000000, mie_scattering_scale=0.030000, rayleigh_scattering_scale=0.033100, dust_storm=0.000000)\n",
      "Weather set to WeatherParameters(cloudiness=-1.000000, cloudiness=-1.000000, precipitation=-1.000000, precipitation_deposits=-1.000000, wind_intensity=-1.000000, sun_azimuth_angle=-1.000000, sun_altitude_angle=-1.000000, fog_density=-1.000000, fog_distance=-1.000000, fog_falloff=-1.000000, wetness=-1.000000, scattering_intensity=1.000000, mie_scattering_scale=0.030000, rayleigh_scattering_scale=0.033100, dust_storm=0.000000)\n"
     ]
    }
   ],
   "source": [
    "weathers = [\n",
    "    carla.WeatherParameters.CloudyNoon,\n",
    "    carla.WeatherParameters.MidRainSunset,\n",
    "    carla.WeatherParameters.HardRainNoon,\n",
    "    carla.WeatherParameters.ClearSunset,\n",
    "    carla.WeatherParameters.SoftRainNight,\n",
    "    carla.WeatherParameters.Default,\n",
    "]\n",
    "\n",
    "for weather in weathers:\n",
    "    world.set_weather(weather)\n",
    "    print(f\"Weather set to {weather}\")\n",
    "    time.sleep(5)"
   ]
  },
  {
   "cell_type": "markdown",
   "metadata": {},
   "source": [
    "### Sync vs Async mode\n",
    "\n",
    "In **synchronous** mode, the server waits for the client to send a tick command before moving to the next frame. This is useful when you want to control the simulation frame by frame.\n",
    "\n",
    "In **asynchronous** mode, the server runs at its own pace. This is useful when you want to run the simulation as fast as possible.\n",
    "\n",
    "![Sync vs Async](./img/sync-async.png)"
   ]
  },
  {
   "cell_type": "code",
   "execution_count": 54,
   "metadata": {},
   "outputs": [
    {
     "data": {
      "text/plain": [
       "27519"
      ]
     },
     "execution_count": 54,
     "metadata": {},
     "output_type": "execute_result"
    }
   ],
   "source": [
    "world = client.get_world()\n",
    "settings = world.get_settings()\n",
    "settings.synchronous_mode = True\n",
    "world.apply_settings(settings)"
   ]
  },
  {
   "cell_type": "code",
   "execution_count": 55,
   "metadata": {},
   "outputs": [
    {
     "name": "stdout",
     "output_type": "stream",
     "text": [
      "Ticked the server 68\r"
     ]
    },
    {
     "ename": "KeyboardInterrupt",
     "evalue": "",
     "output_type": "error",
     "traceback": [
      "\u001b[1;31m---------------------------------------------------------------------------\u001b[0m",
      "\u001b[1;31mKeyboardInterrupt\u001b[0m                         Traceback (most recent call last)",
      "\u001b[1;32m~\\AppData\\Local\\Temp\\ipykernel_18148\\2464632584.py\u001b[0m in \u001b[0;36m<module>\u001b[1;34m\u001b[0m\n\u001b[0;32m      2\u001b[0m \u001b[1;32mwhile\u001b[0m \u001b[1;32mTrue\u001b[0m\u001b[1;33m:\u001b[0m\u001b[1;33m\u001b[0m\u001b[1;33m\u001b[0m\u001b[0m\n\u001b[0;32m      3\u001b[0m     \u001b[0mworld\u001b[0m\u001b[1;33m.\u001b[0m\u001b[0mtick\u001b[0m\u001b[1;33m(\u001b[0m\u001b[1;33m)\u001b[0m\u001b[1;33m\u001b[0m\u001b[1;33m\u001b[0m\u001b[0m\n\u001b[1;32m----> 4\u001b[1;33m     \u001b[0mtime\u001b[0m\u001b[1;33m.\u001b[0m\u001b[0msleep\u001b[0m\u001b[1;33m(\u001b[0m\u001b[1;36m0.1\u001b[0m\u001b[1;33m)\u001b[0m\u001b[1;33m\u001b[0m\u001b[1;33m\u001b[0m\u001b[0m\n\u001b[0m\u001b[0;32m      5\u001b[0m     \u001b[0mcount\u001b[0m \u001b[1;33m+=\u001b[0m \u001b[1;36m1\u001b[0m\u001b[1;33m\u001b[0m\u001b[1;33m\u001b[0m\u001b[0m\n\u001b[0;32m      6\u001b[0m     \u001b[0mprint\u001b[0m\u001b[1;33m(\u001b[0m\u001b[1;34mf\"Ticked the server {count}\"\u001b[0m\u001b[1;33m,\u001b[0m \u001b[0mend\u001b[0m\u001b[1;33m=\u001b[0m\u001b[1;34m\"\\r\"\u001b[0m\u001b[1;33m)\u001b[0m\u001b[1;33m\u001b[0m\u001b[1;33m\u001b[0m\u001b[0m\n",
      "\u001b[1;31mKeyboardInterrupt\u001b[0m: "
     ]
    }
   ],
   "source": [
    "count = 0\n",
    "while True:\n",
    "    world.tick()\n",
    "    time.sleep(0.1)\n",
    "    count += 1\n",
    "    print(f\"Ticked the server {count}\", end=\"\\r\")"
   ]
  },
  {
   "cell_type": "code",
   "execution_count": 56,
   "metadata": {},
   "outputs": [
    {
     "data": {
      "text/plain": [
       "<carla.libcarla.World at 0x1de6a1268f0>"
      ]
     },
     "execution_count": 56,
     "metadata": {},
     "output_type": "execute_result"
    }
   ],
   "source": [
    "settings.synchronous_mode = False\n",
    "world.apply_settings(settings)\n",
    "client.reload_world()"
   ]
  },
  {
   "cell_type": "markdown",
   "metadata": {},
   "source": [
    "## Exercise: some config\n",
    "\n",
    "In this exercise, we will connect to the server, configure the simulation, and run it for a few seconds.\n",
    "\n",
    "The main goal is to get familiar with the Carla Python API.\n",
    "\n",
    "### Proposed exercise\n",
    "\n",
    "Try to implement sun position control similar to the reality.\n",
    "\n",
    "![Sun position](./img/sun-position.png)"
   ]
  },
  {
   "cell_type": "markdown",
   "metadata": {},
   "source": [
    "## Add actors to the simulation\n",
    "\n",
    "### Coordinate system\n",
    "\n",
    "Coordinates uses 3 axes: `x`, `y`, `z`, in meters.\n",
    "\n",
    "There is also a rotation system with 3 angles: `pitch`, `yaw`, `roll`, in degrees."
   ]
  },
  {
   "cell_type": "code",
   "execution_count": null,
   "metadata": {},
   "outputs": [],
   "source": [
    "spectator = world.get_spectator()\n",
    "spectator.set_transform(\n",
    "    carla.Transform(\n",
    "        carla.Location(x=10, y=10, z=10),\n",
    "        carla.Rotation(yaw=5, pitch=0, roll=0)\n",
    "    )\n",
    ")"
   ]
  },
  {
   "cell_type": "markdown",
   "metadata": {},
   "source": [
    "### Spawnpoints\n",
    "\n",
    "Spawnpoints are used to place actors in the simulation, like vehicles, pedestrians, sensors, etc."
   ]
  },
  {
   "cell_type": "code",
   "execution_count": 58,
   "metadata": {},
   "outputs": [
    {
     "name": "stdout",
     "output_type": "stream",
     "text": [
      "Location(x=5.626226, y=133.726013, z=0.600000)0))\r"
     ]
    },
    {
     "ename": "KeyboardInterrupt",
     "evalue": "",
     "output_type": "error",
     "traceback": [
      "\u001b[1;31m---------------------------------------------------------------------------\u001b[0m",
      "\u001b[1;31mKeyboardInterrupt\u001b[0m                         Traceback (most recent call last)",
      "\u001b[1;32m~\\AppData\\Local\\Temp\\ipykernel_18148\\74763891.py\u001b[0m in \u001b[0;36m<module>\u001b[1;34m\u001b[0m\n\u001b[0;32m      7\u001b[0m \u001b[1;33m\u001b[0m\u001b[0m\n\u001b[0;32m      8\u001b[0m     \u001b[0mprint\u001b[0m\u001b[1;33m(\u001b[0m\u001b[0mspawn_point\u001b[0m\u001b[1;33m.\u001b[0m\u001b[0mlocation\u001b[0m\u001b[1;33m,\u001b[0m \u001b[0mend\u001b[0m\u001b[1;33m=\u001b[0m\u001b[1;34m\"\\r\"\u001b[0m\u001b[1;33m)\u001b[0m\u001b[1;33m\u001b[0m\u001b[1;33m\u001b[0m\u001b[0m\n\u001b[1;32m----> 9\u001b[1;33m     \u001b[0mtime\u001b[0m\u001b[1;33m.\u001b[0m\u001b[0msleep\u001b[0m\u001b[1;33m(\u001b[0m\u001b[1;36m5\u001b[0m\u001b[1;33m)\u001b[0m\u001b[1;33m\u001b[0m\u001b[1;33m\u001b[0m\u001b[0m\n\u001b[0m",
      "\u001b[1;31mKeyboardInterrupt\u001b[0m: "
     ]
    }
   ],
   "source": [
    "world = client.get_world()\n",
    "spawn_points = world.get_map().get_spawn_points()\n",
    "spectator = world.get_spectator()\n",
    "\n",
    "for spawn_point in spawn_points:\n",
    "    spectator.set_transform(spawn_point)\n",
    "\n",
    "    print(spawn_point.location, end=\"\\r\")\n",
    "    time.sleep(5)"
   ]
  },
  {
   "cell_type": "markdown",
   "metadata": {},
   "source": [
    "### Actors"
   ]
  },
  {
   "cell_type": "code",
   "execution_count": 59,
   "metadata": {},
   "outputs": [
    {
     "name": "stdout",
     "output_type": "stream",
     "text": [
      "Id: vehicle.nissan.micra, Tags: ['vehicle', 'nissan', 'micra']\n",
      "Id: vehicle.audi.a2, Tags: ['vehicle', 'audi', 'a2']\n",
      "Id: static.prop.plantpot04, Tags: ['static', 'prop', 'plantpot04']\n",
      "Id: static.prop.bench02, Tags: ['static', 'bench02', 'prop']\n",
      "Id: vehicle.mercedes.coupe_2020, Tags: ['vehicle', 'mercedes', 'coupe_2020']\n",
      "Id: vehicle.audi.tt, Tags: ['vehicle', 'audi', 'tt']\n",
      "Id: vehicle.ford.ambulance, Tags: ['vehicle', 'ford', 'ambulance']\n",
      "Id: vehicle.bmw.grandtourer, Tags: ['vehicle', 'bmw', 'grandtourer']\n",
      "Id: vehicle.harley-davidson.low_rider, Tags: ['vehicle', 'harley-davidson', 'low_rider']\n",
      "Id: walker.pedestrian.0037, Tags: ['walker', '0037', 'pedestrian']\n",
      "Id: vehicle.micro.microlino, Tags: ['vehicle', 'micro', 'microlino']\n",
      "Id: vehicle.carlamotors.firetruck, Tags: ['vehicle', 'carlamotors', 'firetruck']\n",
      "Id: walker.pedestrian.0038, Tags: ['walker', 'pedestrian', '0038']\n",
      "Id: static.prop.trashcan05, Tags: ['static', 'prop', 'trashcan05']\n",
      "Id: vehicle.carlamotors.carlacola, Tags: ['vehicle', 'carlamotors', 'carlacola']\n",
      "Id: vehicle.lincoln.mkz_2020, Tags: ['vehicle', 'lincoln', 'mkz_2020']\n",
      "Id: static.prop.glasscontainer, Tags: ['static', 'prop', 'glasscontainer']\n",
      "Id: vehicle.chevrolet.impala, Tags: ['vehicle', 'chevrolet', 'impala']\n",
      "Id: vehicle.ford.mustang, Tags: ['vehicle', 'ford', 'mustang']\n",
      "Id: vehicle.citroen.c3, Tags: ['vehicle', 'citroen', 'c3']\n",
      "Id: sensor.other.collision, Tags: ['sensor', 'other', 'collision']\n",
      "Id: walker.pedestrian.0010, Tags: ['walker', 'pedestrian', '0010']\n",
      "Id: vehicle.nissan.patrol, Tags: ['vehicle', 'nissan', 'patrol']\n",
      "Id: vehicle.dodge.charger_police, Tags: ['vehicle', 'dodge', 'charger_police']\n",
      "Id: vehicle.mini.cooper_s, Tags: ['vehicle', 'mini', 'cooper_s']\n",
      "Id: static.prop.bike helmet, Tags: ['static', 'prop', 'bike helmet']\n",
      "Id: walker.pedestrian.0046, Tags: ['walker', '0046', 'pedestrian']\n",
      "Id: vehicle.jeep.wrangler_rubicon, Tags: ['vehicle', 'jeep', 'wrangler_rubicon']\n",
      "Id: vehicle.ford.crown, Tags: ['vehicle', 'ford', 'crown']\n",
      "Id: vehicle.dodge.charger_2020, Tags: ['vehicle', 'dodge', 'charger_2020']\n",
      "Id: vehicle.mercedes.coupe, Tags: ['vehicle', 'mercedes', 'coupe']\n",
      "Id: static.prop.kiosk_01, Tags: ['static', 'prop', 'kiosk_01']\n",
      "Id: vehicle.seat.leon, Tags: ['vehicle', 'seat', 'leon']\n",
      "Id: static.prop.plantpot06, Tags: ['static', 'plantpot06', 'prop']\n",
      "Id: vehicle.toyota.prius, Tags: ['vehicle', 'toyota', 'prius']\n",
      "Id: vehicle.yamaha.yzf, Tags: ['vehicle', 'yamaha', 'yzf']\n",
      "Id: vehicle.kawasaki.ninja, Tags: ['vehicle', 'kawasaki', 'ninja']\n",
      "Id: vehicle.tesla.model3, Tags: ['vehicle', 'tesla', 'model3']\n",
      "Id: vehicle.mitsubishi.fusorosa, Tags: ['vehicle', 'mitsubishi', 'fusorosa']\n",
      "Id: static.prop.plantpot02, Tags: ['static', 'prop', 'plantpot02']\n",
      "Id: static.prop.streetsign, Tags: ['static', 'streetsign', 'prop']\n",
      "Id: vehicle.bh.crossbike, Tags: ['vehicle', 'bh', 'crossbike']\n",
      "Id: vehicle.gazelle.omafiets, Tags: ['vehicle', 'gazelle', 'omafiets']\n",
      "Id: vehicle.mercedes.sprinter, Tags: ['vehicle', 'mercedes', 'sprinter']\n",
      "Id: walker.pedestrian.0031, Tags: ['walker', 'pedestrian', '0031']\n",
      "Id: vehicle.diamondback.century, Tags: ['vehicle', 'century', 'diamondback']\n",
      "Id: vehicle.tesla.cybertruck, Tags: ['vehicle', 'tesla', 'cybertruck']\n",
      "Id: vehicle.volkswagen.t2, Tags: ['vehicle', 'volkswagen', 't2']\n",
      "Id: vehicle.audi.etron, Tags: ['vehicle', 'audi', 'etron']\n",
      "Id: static.prop.barrel, Tags: ['static', 'prop', 'barrel']\n",
      "Id: vehicle.lincoln.mkz_2017, Tags: ['vehicle', 'lincoln', 'mkz_2017']\n",
      "Id: vehicle.dodge.charger_police_2020, Tags: ['vehicle', 'dodge', 'charger_police_2020']\n",
      "Id: vehicle.vespa.zx125, Tags: ['vehicle', 'zx125', 'vespa']\n",
      "Id: vehicle.mini.cooper_s_2021, Tags: ['vehicle', 'mini', 'cooper_s_2021']\n",
      "Id: static.prop.creasedbox02, Tags: ['static', 'prop', 'creasedbox02']\n",
      "Id: vehicle.nissan.patrol_2021, Tags: ['vehicle', 'patrol_2021', 'nissan']\n",
      "Id: walker.pedestrian.0021, Tags: ['walker', 'pedestrian', '0021']\n",
      "Id: vehicle.volkswagen.t2_2021, Tags: ['vehicle', 't2_2021', 'volkswagen']\n",
      "Id: static.prop.pergola, Tags: ['static', 'prop', 'pergola']\n",
      "Id: sensor.camera.depth, Tags: ['sensor', 'camera', 'depth']\n",
      "Id: sensor.camera.optical_flow, Tags: ['sensor', 'camera', 'optical_flow']\n",
      "Id: sensor.camera.normals, Tags: ['sensor', 'normals', 'camera']\n",
      "Id: static.prop.ironplank, Tags: ['static', 'prop', 'ironplank']\n",
      "Id: static.prop.warningconstruction, Tags: ['static', 'prop', 'warningconstruction']\n",
      "Id: sensor.camera.dvs, Tags: ['sensor', 'camera', 'dvs']\n",
      "Id: sensor.other.gnss, Tags: ['sensor', 'other', 'gnss']\n",
      "Id: walker.pedestrian.0013, Tags: ['walker', 'pedestrian', '0013']\n",
      "Id: sensor.other.imu, Tags: ['sensor', 'other', 'imu']\n",
      "Id: static.prop.platformgarbage01, Tags: ['static', 'prop', 'platformgarbage01']\n",
      "Id: sensor.other.lane_invasion, Tags: ['sensor', 'lane_invasion', 'other']\n",
      "Id: static.prop.doghouse, Tags: ['static', 'prop', 'doghouse']\n",
      "Id: walker.pedestrian.0024, Tags: ['walker', 'pedestrian', '0024']\n",
      "Id: sensor.other.obstacle, Tags: ['sensor', 'other', 'obstacle']\n",
      "Id: static.prop.creasedbox01, Tags: ['static', 'prop', 'creasedbox01']\n",
      "Id: sensor.other.radar, Tags: ['sensor', 'radar', 'other']\n",
      "Id: sensor.lidar.ray_cast_semantic, Tags: ['sensor', 'lidar', 'ray_cast_semantic']\n",
      "Id: walker.pedestrian.0007, Tags: ['walker', 'pedestrian', '0007']\n",
      "Id: sensor.lidar.ray_cast, Tags: ['sensor', 'lidar', 'ray_cast']\n",
      "Id: static.prop.trashcan03, Tags: ['static', 'prop', 'trashcan03']\n",
      "Id: sensor.other.rss, Tags: ['sensor', 'rss', 'other']\n",
      "Id: sensor.camera.rgb, Tags: ['sensor', 'camera', 'rgb']\n",
      "Id: sensor.camera.semantic_segmentation, Tags: ['sensor', 'camera', 'semantic_segmentation']\n",
      "Id: static.prop.dirtdebris02, Tags: ['static', 'prop', 'dirtdebris02']\n",
      "Id: sensor.camera.instance_segmentation, Tags: ['sensor', 'camera', 'instance_segmentation']\n",
      "Id: walker.pedestrian.0001, Tags: ['walker', 'pedestrian', '0001']\n",
      "Id: walker.pedestrian.0002, Tags: ['walker', '0002', 'pedestrian']\n",
      "Id: walker.pedestrian.0003, Tags: ['walker', 'pedestrian', '0003']\n",
      "Id: static.prop.atm, Tags: ['static', 'prop', 'atm']\n",
      "Id: walker.pedestrian.0004, Tags: ['walker', 'pedestrian', '0004']\n",
      "Id: walker.pedestrian.0005, Tags: ['walker', 'pedestrian', '0005']\n",
      "Id: walker.pedestrian.0006, Tags: ['walker', 'pedestrian', '0006']\n",
      "Id: static.prop.garbage05, Tags: ['static', 'garbage05', 'prop']\n",
      "Id: walker.pedestrian.0008, Tags: ['walker', 'pedestrian', '0008']\n",
      "Id: static.prop.garbage04, Tags: ['static', 'prop', 'garbage04']\n",
      "Id: walker.pedestrian.0009, Tags: ['walker', 'pedestrian', '0009']\n",
      "Id: walker.pedestrian.0011, Tags: ['walker', '0011', 'pedestrian']\n",
      "Id: walker.pedestrian.0012, Tags: ['walker', 'pedestrian', '0012']\n",
      "Id: walker.pedestrian.0014, Tags: ['walker', 'pedestrian', '0014']\n",
      "Id: walker.pedestrian.0015, Tags: ['walker', 'pedestrian', '0015']\n",
      "Id: walker.pedestrian.0016, Tags: ['walker', 'pedestrian', '0016']\n",
      "Id: walker.pedestrian.0017, Tags: ['walker', 'pedestrian', '0017']\n",
      "Id: walker.pedestrian.0018, Tags: ['walker', 'pedestrian', '0018']\n",
      "Id: walker.pedestrian.0019, Tags: ['walker', '0019', 'pedestrian']\n",
      "Id: static.prop.plasticbag, Tags: ['static', 'plasticbag', 'prop']\n",
      "Id: static.prop.busstop, Tags: ['static', 'prop', 'busstop']\n",
      "Id: walker.pedestrian.0020, Tags: ['walker', '0020', 'pedestrian']\n",
      "Id: walker.pedestrian.0022, Tags: ['walker', 'pedestrian', '0022']\n",
      "Id: static.prop.clothcontainer, Tags: ['static', 'prop', 'clothcontainer']\n",
      "Id: walker.pedestrian.0023, Tags: ['walker', 'pedestrian', '0023']\n",
      "Id: walker.pedestrian.0025, Tags: ['walker', 'pedestrian', '0025']\n",
      "Id: static.prop.fountain, Tags: ['static', 'prop', 'fountain']\n",
      "Id: walker.pedestrian.0026, Tags: ['walker', 'pedestrian', '0026']\n",
      "Id: walker.pedestrian.0027, Tags: ['walker', 'pedestrian', '0027']\n",
      "Id: walker.pedestrian.0028, Tags: ['walker', '0028', 'pedestrian']\n",
      "Id: static.prop.advertisement, Tags: ['static', 'prop', 'advertisement']\n",
      "Id: walker.pedestrian.0029, Tags: ['walker', 'pedestrian', '0029']\n",
      "Id: walker.pedestrian.0030, Tags: ['walker', 'pedestrian', '0030']\n",
      "Id: static.prop.slide, Tags: ['static', 'prop', 'slide']\n",
      "Id: walker.pedestrian.0032, Tags: ['walker', 'pedestrian', '0032']\n",
      "Id: walker.pedestrian.0033, Tags: ['walker', 'pedestrian', '0033']\n",
      "Id: walker.pedestrian.0034, Tags: ['walker', 'pedestrian', '0034']\n",
      "Id: walker.pedestrian.0035, Tags: ['walker', 'pedestrian', '0035']\n",
      "Id: static.prop.colacan, Tags: ['static', 'prop', 'colacan']\n",
      "Id: walker.pedestrian.0036, Tags: ['walker', 'pedestrian', '0036']\n",
      "Id: static.prop.trashcan04, Tags: ['static', 'prop', 'trashcan04']\n",
      "Id: static.prop.plastictable, Tags: ['static', 'prop', 'plastictable']\n",
      "Id: walker.pedestrian.0039, Tags: ['walker', 'pedestrian', '0039']\n",
      "Id: static.prop.mailbox, Tags: ['static', 'mailbox', 'prop']\n",
      "Id: walker.pedestrian.0040, Tags: ['walker', 'pedestrian', '0040']\n",
      "Id: walker.pedestrian.0041, Tags: ['walker', 'pedestrian', '0041']\n",
      "Id: walker.pedestrian.0042, Tags: ['walker', 'pedestrian', '0042']\n",
      "Id: walker.pedestrian.0043, Tags: ['walker', 'pedestrian', '0043']\n",
      "Id: static.prop.swingcouch, Tags: ['static', 'prop', 'swingcouch']\n",
      "Id: walker.pedestrian.0044, Tags: ['walker', 'pedestrian', '0044']\n",
      "Id: walker.pedestrian.0045, Tags: ['walker', 'pedestrian', '0045']\n",
      "Id: walker.pedestrian.0047, Tags: ['walker', 'pedestrian', '0047']\n",
      "Id: walker.pedestrian.0048, Tags: ['walker', 'pedestrian', '0048']\n",
      "Id: walker.pedestrian.0049, Tags: ['walker', 'pedestrian', '0049']\n",
      "Id: static.prop.barbeque, Tags: ['static', 'prop', 'barbeque']\n",
      "Id: static.prop.plantpot07, Tags: ['static', 'prop', 'plantpot07']\n",
      "Id: static.prop.bench01, Tags: ['static', 'prop', 'bench01']\n",
      "Id: static.prop.plantpot05, Tags: ['static', 'prop', 'plantpot05']\n",
      "Id: static.prop.bench03, Tags: ['static', 'prop', 'bench03']\n",
      "Id: static.prop.bin, Tags: ['static', 'prop', 'bin']\n",
      "Id: static.prop.garbage03, Tags: ['static', 'prop', 'garbage03']\n",
      "Id: static.prop.box01, Tags: ['static', 'prop', 'box01']\n",
      "Id: static.prop.box02, Tags: ['static', 'prop', 'box02']\n",
      "Id: static.prop.garbage01, Tags: ['static', 'prop', 'garbage01']\n",
      "Id: static.prop.box03, Tags: ['static', 'prop', 'box03']\n",
      "Id: static.prop.table, Tags: ['static', 'prop', 'table']\n",
      "Id: static.prop.briefcase, Tags: ['static', 'briefcase', 'prop']\n",
      "Id: static.prop.brokentile01, Tags: ['static', 'prop', 'brokentile01']\n",
      "Id: static.prop.brokentile02, Tags: ['static', 'prop', 'brokentile02']\n",
      "Id: static.prop.trafficcone02, Tags: ['static', 'prop', 'trafficcone02']\n",
      "Id: static.prop.brokentile03, Tags: ['static', 'prop', 'brokentile03']\n",
      "Id: static.prop.brokentile04, Tags: ['static', 'prop', 'brokentile04']\n",
      "Id: static.prop.vendingmachine, Tags: ['static', 'vendingmachine', 'prop']\n",
      "Id: static.prop.chainbarrier, Tags: ['static', 'prop', 'chainbarrier']\n",
      "Id: static.prop.chainbarrierend, Tags: ['static', 'prop', 'chainbarrierend']\n",
      "Id: static.prop.shoppingbag, Tags: ['static', 'prop', 'shoppingbag']\n",
      "Id: static.prop.clothesline, Tags: ['static', 'prop', 'clothesline']\n",
      "Id: static.prop.constructioncone, Tags: ['static', 'prop', 'constructioncone']\n",
      "Id: static.prop.container, Tags: ['static', 'prop', 'container']\n",
      "Id: static.prop.creasedbox03, Tags: ['static', 'prop', 'creasedbox03']\n",
      "Id: static.prop.dirtdebris01, Tags: ['static', 'prop', 'dirtdebris01']\n",
      "Id: static.prop.dirtdebris03, Tags: ['static', 'prop', 'dirtdebris03']\n",
      "Id: static.prop.garbage02, Tags: ['static', 'prop', 'garbage02']\n",
      "Id: static.prop.plasticchair, Tags: ['static', 'prop', 'plasticchair']\n",
      "Id: static.prop.garbage06, Tags: ['static', 'prop', 'garbage06']\n",
      "Id: static.prop.calibrator, Tags: ['static', 'prop', 'calibrator']\n",
      "Id: static.prop.gardenlamp, Tags: ['static', 'prop', 'gardenlamp']\n",
      "Id: static.prop.gnome, Tags: ['static', 'prop', 'gnome']\n",
      "Id: static.prop.guitarcase, Tags: ['static', 'guitarcase', 'prop']\n",
      "Id: static.prop.maptable, Tags: ['static', 'maptable', 'prop']\n",
      "Id: static.prop.mobile, Tags: ['static', 'prop', 'mobile']\n",
      "Id: static.prop.plantpot08, Tags: ['static', 'prop', 'plantpot08']\n",
      "Id: static.prop.motorhelmet, Tags: ['static', 'prop', 'motorhelmet']\n",
      "Id: static.prop.plantpot01, Tags: ['static', 'prop', 'plantpot01']\n",
      "Id: static.prop.plantpot03, Tags: ['static', 'prop', 'plantpot03']\n",
      "Id: static.prop.purse, Tags: ['static', 'prop', 'purse']\n",
      "Id: static.prop.shoppingcart, Tags: ['static', 'prop', 'shoppingcart']\n",
      "Id: static.prop.shoppingtrolley, Tags: ['static', 'prop', 'shoppingtrolley']\n",
      "Id: static.prop.streetsign01, Tags: ['static', 'prop', 'streetsign01']\n",
      "Id: static.prop.haybalelb, Tags: ['static', 'prop', 'haybalelb']\n",
      "Id: static.prop.streetsign04, Tags: ['static', 'prop', 'streetsign04']\n",
      "Id: static.prop.streetbarrier, Tags: ['static', 'prop', 'streetbarrier']\n",
      "Id: static.prop.streetfountain, Tags: ['static', 'prop', 'streetfountain']\n",
      "Id: static.prop.swing, Tags: ['static', 'prop', 'swing']\n",
      "Id: static.prop.trafficcone01, Tags: ['static', 'prop', 'trafficcone01']\n",
      "Id: static.prop.trafficwarning, Tags: ['static', 'prop', 'trafficwarning']\n",
      "Id: static.prop.trampoline, Tags: ['static', 'prop', 'trampoline']\n",
      "Id: static.prop.trashbag, Tags: ['static', 'prop', 'trashbag']\n",
      "Id: static.prop.trashcan01, Tags: ['static', 'prop', 'trashcan01']\n",
      "Id: static.prop.trashcan02, Tags: ['static', 'prop', 'trashcan02']\n",
      "Id: static.prop.travelcase, Tags: ['static', 'prop', 'travelcase']\n",
      "Id: static.prop.wateringcan, Tags: ['static', 'prop', 'wateringcan']\n",
      "Id: static.prop.foodcart, Tags: ['static', 'foodcart', 'prop']\n",
      "Id: static.prop.haybale, Tags: ['static', 'haybale', 'prop']\n",
      "Id: static.prop.busstoplb, Tags: ['static', 'prop', 'busstoplb']\n",
      "Id: static.prop.mesh, Tags: ['static', 'prop', 'mesh']\n",
      "Id: static.prop.warningaccident, Tags: ['static', 'prop', 'warningaccident']\n",
      "Id: static.trigger.friction, Tags: ['static', 'trigger', 'friction']\n",
      "Id: controller.ai.walker, Tags: ['controller', 'ai', 'walker']\n"
     ]
    }
   ],
   "source": [
    "blue_prints = world.get_blueprint_library().filter('*')\n",
    "\n",
    "for blue_print in blue_prints:\n",
    "    print(f\"Id: {blue_print.id}, Tags: {blue_print.tags}\")"
   ]
  },
  {
   "cell_type": "markdown",
   "metadata": {},
   "source": [
    "### Spawn a vehicles"
   ]
  },
  {
   "cell_type": "code",
   "execution_count": 62,
   "metadata": {},
   "outputs": [
    {
     "name": "stdout",
     "output_type": "stream",
     "text": [
      "Impossibile spawnare\n",
      "Impossibile spawnare\n",
      "Impossibile spawnare\n",
      "Impossibile spawnare\n",
      "Impossibile spawnare\n",
      "Impossibile spawnare\n",
      "Impossibile spawnare\n",
      "Impossibile spawnare\n",
      "Impossibile spawnare\n",
      "Impossibile spawnare\n",
      "Impossibile spawnare\n",
      "Impossibile spawnare\n",
      "Impossibile spawnare\n",
      "Impossibile spawnare\n",
      "Impossibile spawnare\n",
      "Impossibile spawnare\n",
      "Impossibile spawnare\n",
      "Impossibile spawnare\n",
      "Impossibile spawnare\n",
      "Impossibile spawnare\n",
      "Impossibile spawnare\n",
      "Impossibile spawnare\n",
      "Impossibile spawnare\n",
      "Impossibile spawnare\n",
      "Impossibile spawnare\n",
      "Impossibile spawnare\n",
      "Impossibile spawnare\n",
      "Impossibile spawnare\n",
      "Impossibile spawnare\n",
      "Impossibile spawnare\n",
      "Impossibile spawnare\n",
      "Impossibile spawnare\n",
      "Impossibile spawnare\n",
      "Impossibile spawnare\n",
      "Impossibile spawnare\n",
      "Impossibile spawnare\n",
      "Impossibile spawnare\n",
      "Impossibile spawnare\n",
      "Impossibile spawnare\n",
      "Impossibile spawnare\n",
      "Impossibile spawnare\n",
      "Impossibile spawnare\n",
      "Impossibile spawnare\n",
      "Impossibile spawnare\n",
      "Impossibile spawnare\n",
      "Impossibile spawnare\n",
      "Impossibile spawnare\n",
      "Impossibile spawnare\n",
      "Impossibile spawnare\n",
      "Impossibile spawnare\n",
      "Impossibile spawnare\n",
      "Impossibile spawnare\n",
      "Impossibile spawnare\n",
      "Impossibile spawnare\n",
      "Impossibile spawnare\n",
      "Impossibile spawnare\n",
      "Impossibile spawnare\n",
      "Impossibile spawnare\n",
      "Impossibile spawnare\n",
      "Impossibile spawnare\n",
      "Impossibile spawnare\n",
      "Impossibile spawnare\n",
      "Impossibile spawnare\n",
      "Impossibile spawnare\n",
      "Impossibile spawnare\n",
      "Impossibile spawnare\n",
      "Impossibile spawnare\n",
      "Impossibile spawnare\n",
      "Impossibile spawnare\n",
      "Impossibile spawnare\n",
      "Impossibile spawnare\n",
      "Impossibile spawnare\n",
      "Impossibile spawnare\n",
      "Impossibile spawnare\n",
      "Impossibile spawnare\n",
      "Impossibile spawnare\n",
      "Impossibile spawnare\n",
      "Impossibile spawnare\n",
      "Impossibile spawnare\n",
      "Impossibile spawnare\n",
      "Impossibile spawnare\n",
      "Impossibile spawnare\n",
      "Impossibile spawnare\n",
      "Impossibile spawnare\n",
      "Impossibile spawnare\n",
      "Impossibile spawnare\n",
      "Impossibile spawnare\n",
      "Impossibile spawnare\n",
      "Impossibile spawnare\n",
      "Impossibile spawnare\n",
      "Impossibile spawnare\n",
      "Impossibile spawnare\n",
      "Impossibile spawnare\n",
      "Impossibile spawnare\n",
      "Impossibile spawnare\n",
      "Impossibile spawnare\n",
      "Impossibile spawnare\n",
      "Impossibile spawnare\n",
      "Impossibile spawnare\n",
      "Impossibile spawnare\n",
      "Impossibile spawnare\n",
      "Impossibile spawnare\n",
      "Impossibile spawnare\n",
      "Impossibile spawnare\n",
      "Impossibile spawnare\n",
      "Impossibile spawnare\n",
      "Impossibile spawnare\n",
      "Impossibile spawnare\n",
      "Impossibile spawnare\n",
      "Impossibile spawnare\n",
      "Impossibile spawnare\n",
      "Impossibile spawnare\n",
      "Impossibile spawnare\n",
      "Impossibile spawnare\n",
      "Impossibile spawnare\n",
      "Impossibile spawnare\n",
      "Impossibile spawnare\n",
      "Impossibile spawnare\n",
      "Impossibile spawnare\n",
      "Impossibile spawnare\n",
      "Impossibile spawnare\n",
      "Impossibile spawnare\n",
      "Impossibile spawnare\n",
      "Impossibile spawnare\n",
      "Impossibile spawnare\n",
      "Impossibile spawnare\n",
      "Impossibile spawnare\n",
      "Impossibile spawnare\n",
      "Impossibile spawnare\n",
      "Impossibile spawnare\n",
      "Impossibile spawnare\n",
      "Impossibile spawnare\n",
      "Impossibile spawnare\n",
      "Impossibile spawnare\n",
      "Impossibile spawnare\n",
      "Impossibile spawnare\n",
      "Impossibile spawnare\n",
      "Impossibile spawnare\n",
      "Impossibile spawnare\n",
      "Impossibile spawnare\n",
      "Impossibile spawnare\n",
      "Impossibile spawnare\n",
      "Impossibile spawnare\n",
      "Impossibile spawnare\n",
      "Impossibile spawnare\n",
      "Impossibile spawnare\n",
      "Impossibile spawnare\n",
      "Impossibile spawnare\n",
      "Impossibile spawnare\n",
      "Impossibile spawnare\n",
      "Impossibile spawnare\n",
      "Impossibile spawnare\n",
      "Impossibile spawnare\n",
      "Impossibile spawnare\n",
      "Impossibile spawnare\n"
     ]
    },
    {
     "ename": "IndexError",
     "evalue": "list index out of range",
     "output_type": "error",
     "traceback": [
      "\u001b[1;31m---------------------------------------------------------------------------\u001b[0m",
      "\u001b[1;31mIndexError\u001b[0m                                Traceback (most recent call last)",
      "\u001b[1;32m~\\AppData\\Local\\Temp\\ipykernel_18148\\2574320808.py\u001b[0m in \u001b[0;36m<module>\u001b[1;34m\u001b[0m\n\u001b[0;32m      1\u001b[0m \u001b[1;32mfor\u001b[0m \u001b[0mx\u001b[0m \u001b[1;32min\u001b[0m \u001b[0mrange\u001b[0m\u001b[1;33m(\u001b[0m\u001b[0mlen\u001b[0m\u001b[1;33m(\u001b[0m\u001b[0mblue_prints\u001b[0m\u001b[1;33m)\u001b[0m\u001b[1;33m-\u001b[0m\u001b[1;36m1\u001b[0m\u001b[1;33m)\u001b[0m\u001b[1;33m:\u001b[0m\u001b[1;33m\u001b[0m\u001b[1;33m\u001b[0m\u001b[0m\n\u001b[1;32m----> 2\u001b[1;33m     \u001b[0mvehicle\u001b[0m \u001b[1;33m=\u001b[0m \u001b[0mworld\u001b[0m\u001b[1;33m.\u001b[0m\u001b[0mtry_spawn_actor\u001b[0m\u001b[1;33m(\u001b[0m\u001b[0mblue_prints\u001b[0m\u001b[1;33m[\u001b[0m\u001b[0mx\u001b[0m\u001b[1;33m]\u001b[0m\u001b[1;33m,\u001b[0m \u001b[0mspawn_points\u001b[0m\u001b[1;33m[\u001b[0m\u001b[0mx\u001b[0m\u001b[1;33m]\u001b[0m\u001b[1;33m)\u001b[0m\u001b[1;33m\u001b[0m\u001b[1;33m\u001b[0m\u001b[0m\n\u001b[0m\u001b[0;32m      3\u001b[0m     \u001b[1;32mtry\u001b[0m\u001b[1;33m:\u001b[0m\u001b[1;33m\u001b[0m\u001b[1;33m\u001b[0m\u001b[0m\n\u001b[0;32m      4\u001b[0m         \u001b[0mvehicle\u001b[0m\u001b[1;33m.\u001b[0m\u001b[0mset_autopilot\u001b[0m\u001b[1;33m(\u001b[0m\u001b[1;32mTrue\u001b[0m\u001b[1;33m)\u001b[0m\u001b[1;33m\u001b[0m\u001b[1;33m\u001b[0m\u001b[0m\n\u001b[0;32m      5\u001b[0m     \u001b[1;32mexcept\u001b[0m\u001b[1;33m:\u001b[0m\u001b[1;33m\u001b[0m\u001b[1;33m\u001b[0m\u001b[0m\n",
      "\u001b[1;31mIndexError\u001b[0m: list index out of range"
     ]
    }
   ],
   "source": [
    "for x in range(len(blue_prints)-1):\n",
    "    vehicle = world.try_spawn_actor(blue_prints[x], spawn_points[x])\n",
    "    try:\n",
    "        vehicle.set_autopilot(True)\n",
    "    except:\n",
    "        print(\"Impossibile spawnare\")\n"
   ]
  },
  {
   "cell_type": "code",
   "execution_count": 63,
   "metadata": {},
   "outputs": [
    {
     "ename": "AttributeError",
     "evalue": "'Actor' object has no attribute 'set_autopilot'",
     "output_type": "error",
     "traceback": [
      "\u001b[1;31m---------------------------------------------------------------------------\u001b[0m",
      "\u001b[1;31mAttributeError\u001b[0m                            Traceback (most recent call last)",
      "\u001b[1;32m~\\AppData\\Local\\Temp\\ipykernel_18148\\3267453650.py\u001b[0m in \u001b[0;36m<module>\u001b[1;34m\u001b[0m\n\u001b[1;32m----> 1\u001b[1;33m \u001b[0mvehicle\u001b[0m\u001b[1;33m.\u001b[0m\u001b[0mset_autopilot\u001b[0m\u001b[1;33m(\u001b[0m\u001b[1;32mTrue\u001b[0m\u001b[1;33m)\u001b[0m\u001b[1;33m\u001b[0m\u001b[1;33m\u001b[0m\u001b[0m\n\u001b[0m",
      "\u001b[1;31mAttributeError\u001b[0m: 'Actor' object has no attribute 'set_autopilot'"
     ]
    }
   ],
   "source": [
    "vehicle.set_autopilot(True)"
   ]
  },
  {
   "cell_type": "code",
   "execution_count": null,
   "metadata": {},
   "outputs": [
    {
     "data": {
      "text/plain": [
       "True"
      ]
     },
     "execution_count": 64,
     "metadata": {},
     "output_type": "execute_result"
    },
    {
     "ename": "",
     "evalue": "",
     "output_type": "error",
     "traceback": [
      "\u001b[1;31mSi è verificato un arresto anomalo del Kernel durante l'esecuzione del codice nella cella attiva o in una cella precedente. \n",
      "\u001b[1;31mEsaminare il codice nelle celle per identificare una possibile causa dell'errore. \n",
      "\u001b[1;31mPer altre informazioni, fare clic<a href='https://aka.ms/vscodeJupyterKernelCrash'>qui</a>. \n",
      "\u001b[1;31mPer ulteriori dettagli, visualizzare Jupyter <a href='command:jupyter.viewOutput'>log</a>."
     ]
    }
   ],
   "source": [
    "vehicle.destroy()"
   ]
  }
 ],
 "metadata": {
  "kernelspec": {
   "display_name": "carla-env",
   "language": "python",
   "name": "python3"
  },
  "language_info": {
   "codemirror_mode": {
    "name": "ipython",
    "version": 3
   },
   "file_extension": ".py",
   "mimetype": "text/x-python",
   "name": "python",
   "nbconvert_exporter": "python",
   "pygments_lexer": "ipython3",
   "version": "3.7.12"
  }
 },
 "nbformat": 4,
 "nbformat_minor": 2
}
